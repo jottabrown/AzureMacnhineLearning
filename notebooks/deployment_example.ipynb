{
 "cells": [
  {
   "cell_type": "markdown",
   "metadata": {},
   "source": [
    "# Implantação de Modelo de Machine Learning com Azure ML 🚀🔍\n",
    "\n",
    "Este notebook demonstra o processo de implantação de um modelo treinado usando o Azure Machine Learning. Exploraremos como salvar o modelo, registrar na plataforma e publicar um endpoint para servir o modelo em produção.\n"
   ]
  },
  {
   "cell_type": "code",
   "execution_count": null,
   "metadata": {},
   "outputs": [],
   "source": [
    "from azureml.core import Workspace, Model, Environment\n",
    "from azureml.core.webservice import AciWebservice, Webservice\n",
    "from azureml.core.model import InferenceConfig\n",
    "import joblib\n"
   ]
  },
  {
   "cell_type": "code",
   "execution_count": null,
   "metadata": {},
   "outputs": [],
   "source": [
    "# Conecte ao workspace do Azure ML\n",
    "ws = Workspace.from_config()\n",
    "print(\"Conectado ao Workspace:\", ws.name)\n"
   ]
  },
  {
   "cell_type": "code",
   "execution_count": null,
   "metadata": {},
   "outputs": [],
   "source": [
    "# Carregar o modelo\n",
    "model = joblib.load(\"model.pkl\")\n"
   ]
  },
  {
   "cell_type": "code",
   "execution_count": null,
   "metadata": {},
   "outputs": [],
   "source": [
    "# Registrar o modelo no workspace\n",
    "model = Model.register(workspace=ws,\n",
    "                       model_path=\"model.pkl\",  # Caminho local do modelo\n",
    "                       model_name=\"modelo_exemplo\")  # Nome para o modelo registrado\n",
    "print(\"Modelo registrado:\", model.name)\n"
   ]
  },
  {
   "cell_type": "code",
   "execution_count": null,
   "metadata": {},
   "outputs": [],
   "source": [
    "#Defina o ambiente, incluindo as bibliotecas necessárias para executar o modelo. Isso pode ser feito criando um Environment personalizado ou usando um pré-definido.\n",
    "env = Environment(name=\"env-exemplo\")\n",
    "env.docker.enabled = True\n",
    "env.python.conda_dependencies.add_pip_package(\"scikit-learn\")\n"
   ]
  },
  {
   "cell_type": "code",
   "execution_count": null,
   "metadata": {},
   "outputs": [],
   "source": [
    "%%writefile score.py\n",
    "\n",
    "import joblib\n",
    "import json\n",
    "import numpy as np\n",
    "from sklearn.ensemble import RandomForestClassifier\n",
    "\n",
    "def init():\n",
    "    global model\n",
    "    model = joblib.load(\"model.pkl\")\n",
    "\n",
    "def run(data):\n",
    "    try:\n",
    "        data = np.array(json.loads(data))\n",
    "        prediction = model.predict(data)\n",
    "        return json.dumps({\"result\": prediction.tolist()})\n",
    "    except Exception as e:\n",
    "        error = str(e)\n",
    "        return json.dumps({\"error\": error})\n"
   ]
  },
  {
   "cell_type": "code",
   "execution_count": null,
   "metadata": {},
   "outputs": [],
   "source": [
    "inference_config = InferenceConfig(entry_script=\"score.py\", environment=env)\n"
   ]
  },
  {
   "cell_type": "code",
   "execution_count": null,
   "metadata": {},
   "outputs": [],
   "source": [
    "aci_config = AciWebservice.deploy_configuration(cpu_cores=1, memory_gb=1)\n",
    "service = Model.deploy(workspace=ws,\n",
    "                       name=\"modelo-deploy-aci\",\n",
    "                       models=[model],\n",
    "                       inference_config=inference_config,\n",
    "                       deployment_config=aci_config)\n",
    "\n",
    "service.wait_for_deployment(show_output=True)\n",
    "print(\"Modelo implantado no endpoint:\", service.scoring_uri)\n"
   ]
  },
  {
   "cell_type": "code",
   "execution_count": null,
   "metadata": {},
   "outputs": [],
   "source": [
    "#Faça uma solicitação de teste ao endpoint para verificar a inferência.\n",
    "python\n",
    "Copy code\n",
    "\n",
    "import json\n",
    "import requests\n",
    "\n",
    "# Substitua com um exemplo de dados de entrada\n",
    "input_data = json.dumps({\"data\": [[5.1, 3.5, 1.4, 0.2]]})  # Exemplo de dados\n",
    "headers = {'Content-Type': 'application/json'}\n",
    "\n",
    "response = requests.post(service.scoring_uri, data=input_data, headers=headers)\n",
    "print(\"Resposta do modelo:\", response.json())\n"
   ]
  },
  {
   "cell_type": "markdown",
   "metadata": {},
   "source": [
    "## Conclusões\n",
    "\n",
    "O modelo foi implantado com sucesso usando Azure ML e um endpoint foi publicado para receber requisições de inferência. Esse processo de implantação garante que o modelo esteja disponível para uso em produção, e futuras melhorias podem incluir ajustes no ambiente de implantação e monitoramento de métricas.\n"
   ]
  }
 ],
 "metadata": {
  "language_info": {
   "name": "python"
  }
 },
 "nbformat": 4,
 "nbformat_minor": 2
}
